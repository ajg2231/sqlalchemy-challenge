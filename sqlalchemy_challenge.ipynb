{
 "cells": [
  {
   "cell_type": "code",
   "execution_count": 1,
   "metadata": {},
   "outputs": [],
   "source": [
    "%matplotlib inline\n",
    "from matplotlib import style\n",
    "style.use('fivethirtyeight')\n",
    "import matplotlib.pyplot as plt"
   ]
  },
  {
   "cell_type": "code",
   "execution_count": 2,
   "metadata": {},
   "outputs": [],
   "source": [
    "import numpy as np\n",
    "import pandas as pd\n",
    "import datetime as dt"
   ]
  },
  {
   "cell_type": "code",
   "execution_count": 32,
   "metadata": {},
   "outputs": [],
   "source": [
    "import sqlalchemy as sqla\n",
    "from sqlalchemy.ext.automap import automap_base\n",
    "from sqlalchemy.orm import sessionmaker, Session\n",
    "from sqlalchemy import create_engine, func\n",
    "from sqlalchemy import inspect\n"
   ]
  },
  {
   "cell_type": "code",
   "execution_count": 4,
   "metadata": {},
   "outputs": [],
   "source": [
    "engine = create_engine('sqlite:///hawaii.sqlite', echo=True)\n",
    "sess = sessionmaker(bind = engine)\n",
    "s = sess()"
   ]
  },
  {
   "cell_type": "code",
   "execution_count": 6,
   "metadata": {},
   "outputs": [
    {
     "name": "stdout",
     "output_type": "stream",
     "text": [
      "2021-02-02 18:09:46,337 INFO sqlalchemy.engine.base.Engine SELECT CAST('test plain returns' AS VARCHAR(60)) AS anon_1\n",
      "2021-02-02 18:09:46,339 INFO sqlalchemy.engine.base.Engine ()\n",
      "2021-02-02 18:09:46,341 INFO sqlalchemy.engine.base.Engine SELECT CAST('test unicode returns' AS VARCHAR(60)) AS anon_1\n",
      "2021-02-02 18:09:46,342 INFO sqlalchemy.engine.base.Engine ()\n",
      "2021-02-02 18:09:46,343 INFO sqlalchemy.engine.base.Engine SELECT name FROM sqlite_master WHERE type='table' ORDER BY name\n",
      "2021-02-02 18:09:46,345 INFO sqlalchemy.engine.base.Engine ()\n",
      "2021-02-02 18:09:46,349 INFO sqlalchemy.engine.base.Engine PRAGMA main.table_xinfo(\"measurement\")\n",
      "2021-02-02 18:09:46,350 INFO sqlalchemy.engine.base.Engine ()\n",
      "2021-02-02 18:09:46,353 INFO sqlalchemy.engine.base.Engine SELECT sql FROM  (SELECT * FROM sqlite_master UNION ALL   SELECT * FROM sqlite_temp_master) WHERE name = 'measurement' AND type = 'table'\n",
      "2021-02-02 18:09:46,355 INFO sqlalchemy.engine.base.Engine ()\n",
      "2021-02-02 18:09:46,357 INFO sqlalchemy.engine.base.Engine PRAGMA main.foreign_key_list(\"measurement\")\n",
      "2021-02-02 18:09:46,358 INFO sqlalchemy.engine.base.Engine ()\n",
      "2021-02-02 18:09:46,359 INFO sqlalchemy.engine.base.Engine PRAGMA temp.foreign_key_list(\"measurement\")\n",
      "2021-02-02 18:09:46,360 INFO sqlalchemy.engine.base.Engine ()\n",
      "2021-02-02 18:09:46,362 INFO sqlalchemy.engine.base.Engine SELECT sql FROM  (SELECT * FROM sqlite_master UNION ALL   SELECT * FROM sqlite_temp_master) WHERE name = 'measurement' AND type = 'table'\n",
      "2021-02-02 18:09:46,363 INFO sqlalchemy.engine.base.Engine ()\n",
      "2021-02-02 18:09:46,366 INFO sqlalchemy.engine.base.Engine PRAGMA main.index_list(\"measurement\")\n",
      "2021-02-02 18:09:46,367 INFO sqlalchemy.engine.base.Engine ()\n",
      "2021-02-02 18:09:46,369 INFO sqlalchemy.engine.base.Engine PRAGMA temp.index_list(\"measurement\")\n",
      "2021-02-02 18:09:46,371 INFO sqlalchemy.engine.base.Engine ()\n",
      "2021-02-02 18:09:46,373 INFO sqlalchemy.engine.base.Engine PRAGMA main.index_list(\"measurement\")\n",
      "2021-02-02 18:09:46,374 INFO sqlalchemy.engine.base.Engine ()\n",
      "2021-02-02 18:09:46,375 INFO sqlalchemy.engine.base.Engine PRAGMA temp.index_list(\"measurement\")\n",
      "2021-02-02 18:09:46,376 INFO sqlalchemy.engine.base.Engine ()\n",
      "2021-02-02 18:09:46,377 INFO sqlalchemy.engine.base.Engine SELECT sql FROM  (SELECT * FROM sqlite_master UNION ALL   SELECT * FROM sqlite_temp_master) WHERE name = 'measurement' AND type = 'table'\n",
      "2021-02-02 18:09:46,378 INFO sqlalchemy.engine.base.Engine ()\n",
      "2021-02-02 18:09:46,381 INFO sqlalchemy.engine.base.Engine PRAGMA main.table_xinfo(\"station\")\n",
      "2021-02-02 18:09:46,382 INFO sqlalchemy.engine.base.Engine ()\n",
      "2021-02-02 18:09:46,384 INFO sqlalchemy.engine.base.Engine SELECT sql FROM  (SELECT * FROM sqlite_master UNION ALL   SELECT * FROM sqlite_temp_master) WHERE name = 'station' AND type = 'table'\n",
      "2021-02-02 18:09:46,384 INFO sqlalchemy.engine.base.Engine ()\n",
      "2021-02-02 18:09:46,386 INFO sqlalchemy.engine.base.Engine PRAGMA main.foreign_key_list(\"station\")\n",
      "2021-02-02 18:09:46,387 INFO sqlalchemy.engine.base.Engine ()\n",
      "2021-02-02 18:09:46,388 INFO sqlalchemy.engine.base.Engine PRAGMA temp.foreign_key_list(\"station\")\n",
      "2021-02-02 18:09:46,389 INFO sqlalchemy.engine.base.Engine ()\n",
      "2021-02-02 18:09:46,391 INFO sqlalchemy.engine.base.Engine SELECT sql FROM  (SELECT * FROM sqlite_master UNION ALL   SELECT * FROM sqlite_temp_master) WHERE name = 'station' AND type = 'table'\n",
      "2021-02-02 18:09:46,392 INFO sqlalchemy.engine.base.Engine ()\n",
      "2021-02-02 18:09:46,394 INFO sqlalchemy.engine.base.Engine PRAGMA main.index_list(\"station\")\n",
      "2021-02-02 18:09:46,395 INFO sqlalchemy.engine.base.Engine ()\n",
      "2021-02-02 18:09:46,396 INFO sqlalchemy.engine.base.Engine PRAGMA temp.index_list(\"station\")\n",
      "2021-02-02 18:09:46,397 INFO sqlalchemy.engine.base.Engine ()\n",
      "2021-02-02 18:09:46,399 INFO sqlalchemy.engine.base.Engine PRAGMA main.index_list(\"station\")\n",
      "2021-02-02 18:09:46,400 INFO sqlalchemy.engine.base.Engine ()\n",
      "2021-02-02 18:09:46,402 INFO sqlalchemy.engine.base.Engine PRAGMA temp.index_list(\"station\")\n",
      "2021-02-02 18:09:46,403 INFO sqlalchemy.engine.base.Engine ()\n",
      "2021-02-02 18:09:46,405 INFO sqlalchemy.engine.base.Engine SELECT sql FROM  (SELECT * FROM sqlite_master UNION ALL   SELECT * FROM sqlite_temp_master) WHERE name = 'station' AND type = 'table'\n",
      "2021-02-02 18:09:46,406 INFO sqlalchemy.engine.base.Engine ()\n",
      "['measurement', 'station']\n"
     ]
    }
   ],
   "source": [
    "Base = automap_base()\n",
    "Base.prepare(engine, reflect=True)\n",
    "print(Base.classes.keys())"
   ]
  },
  {
   "cell_type": "code",
   "execution_count": 7,
   "metadata": {},
   "outputs": [
    {
     "name": "stdout",
     "output_type": "stream",
     "text": [
      "2021-02-02 18:38:18,392 INFO sqlalchemy.engine.base.Engine SELECT name FROM sqlite_master WHERE type='table' ORDER BY name\n",
      "2021-02-02 18:38:18,395 INFO sqlalchemy.engine.base.Engine ()\n"
     ]
    },
    {
     "data": {
      "text/plain": [
       "['measurement', 'station']"
      ]
     },
     "execution_count": 7,
     "metadata": {},
     "output_type": "execute_result"
    }
   ],
   "source": [
    "inspector = inspect(engine)\n",
    "inspector.get_table_names()"
   ]
  },
  {
   "cell_type": "code",
   "execution_count": 40,
   "metadata": {},
   "outputs": [
    {
     "name": "stdout",
     "output_type": "stream",
     "text": [
      "<class 'sqlalchemy.ext.declarative.api.DeclarativeMeta'>\n"
     ]
    }
   ],
   "source": [
    "#Save reference to classes\n",
    "\n",
    "Measure = Base.classes.measurement\n",
    "Station = Base.classes.station\n"
   ]
  },
  {
   "cell_type": "code",
   "execution_count": 45,
   "metadata": {},
   "outputs": [
    {
     "name": "stdout",
     "output_type": "stream",
     "text": [
      "2021-02-02 19:20:25,747 INFO sqlalchemy.engine.base.Engine PRAGMA main.table_info(\"SELECT MAX(date) FROM measurement\")\n",
      "2021-02-02 19:20:25,749 INFO sqlalchemy.engine.base.Engine ()\n",
      "2021-02-02 19:20:25,751 INFO sqlalchemy.engine.base.Engine PRAGMA temp.table_info(\"SELECT MAX(date) FROM measurement\")\n",
      "2021-02-02 19:20:25,752 INFO sqlalchemy.engine.base.Engine ()\n",
      "2021-02-02 19:20:25,753 INFO sqlalchemy.engine.base.Engine SELECT MAX(date) FROM measurement\n",
      "2021-02-02 19:20:25,755 INFO sqlalchemy.engine.base.Engine ()\n"
     ]
    },
    {
     "data": {
      "text/html": [
       "<div>\n",
       "<style scoped>\n",
       "    .dataframe tbody tr th:only-of-type {\n",
       "        vertical-align: middle;\n",
       "    }\n",
       "\n",
       "    .dataframe tbody tr th {\n",
       "        vertical-align: top;\n",
       "    }\n",
       "\n",
       "    .dataframe thead th {\n",
       "        text-align: right;\n",
       "    }\n",
       "</style>\n",
       "<table border=\"1\" class=\"dataframe\">\n",
       "  <thead>\n",
       "    <tr style=\"text-align: right;\">\n",
       "      <th></th>\n",
       "      <th>MAX(date)</th>\n",
       "    </tr>\n",
       "  </thead>\n",
       "  <tbody>\n",
       "    <tr>\n",
       "      <th>0</th>\n",
       "      <td>2017-08-23</td>\n",
       "    </tr>\n",
       "  </tbody>\n",
       "</table>\n",
       "</div>"
      ],
      "text/plain": [
       "    MAX(date)\n",
       "0  2017-08-23"
      ]
     },
     "execution_count": 45,
     "metadata": {},
     "output_type": "execute_result"
    }
   ],
   "source": [
    "#Find the latest date\n",
    "conn=engine.connect()\n",
    "latest_date=pd.read_sql(\"SELECT MAX(date) FROM measurement\", conn)\n",
    "latest_date.head()"
   ]
  },
  {
   "cell_type": "code",
   "execution_count": 113,
   "metadata": {},
   "outputs": [
    {
     "name": "stdout",
     "output_type": "stream",
     "text": [
      "2021-02-02 21:52:07,242 INFO sqlalchemy.engine.base.Engine PRAGMA main.table_info(\"SELECT prcp, date FROM measurement WHERE date >= '2016-08-23'\")\n",
      "2021-02-02 21:52:07,244 INFO sqlalchemy.engine.base.Engine ()\n",
      "2021-02-02 21:52:07,247 INFO sqlalchemy.engine.base.Engine PRAGMA temp.table_info(\"SELECT prcp, date FROM measurement WHERE date >= '2016-08-23'\")\n",
      "2021-02-02 21:52:07,248 INFO sqlalchemy.engine.base.Engine ()\n",
      "2021-02-02 21:52:07,250 INFO sqlalchemy.engine.base.Engine SELECT prcp, date FROM measurement WHERE date >= '2016-08-23'\n",
      "2021-02-02 21:52:07,251 INFO sqlalchemy.engine.base.Engine ()\n",
      "      prcp        date\n",
      "0     0.00  2016-08-23\n",
      "1     0.08  2016-08-24\n",
      "2     0.08  2016-08-25\n",
      "3     0.00  2016-08-26\n",
      "4     0.00  2016-08-27\n",
      "...    ...         ...\n",
      "2225  0.09  2017-08-19\n",
      "2226   NaN  2017-08-20\n",
      "2227  0.56  2017-08-21\n",
      "2228  0.50  2017-08-22\n",
      "2229  0.45  2017-08-23\n",
      "\n",
      "[2230 rows x 2 columns]\n"
     ]
    },
    {
     "data": {
      "image/png": "[encoded data removed]",
      "text/plain": [
       "<Figure size 432x288 with 1 Axes>"
      ]
     },
     "metadata": {},
     "output_type": "display_data"
    }
   ],
   "source": [
    "#precipitation analysis\n",
    "precip=pd.read_sql(\"SELECT prcp, date FROM measurement WHERE date >= '2016-08-23'\", conn)\n",
    "df1 = pd.DataFrame(precip)\n",
    "df1.sort_values(by=['date'])\n",
    "df1.plot(kind='line')"
   ]
  },
  {
   "cell_type": "code",
   "execution_count": 50,
   "metadata": {},
   "outputs": [
    {
     "data": {
      "text/html": [
       "<div>\n",
       "<style scoped>\n",
       "    .dataframe tbody tr th:only-of-type {\n",
       "        vertical-align: middle;\n",
       "    }\n",
       "\n",
       "    .dataframe tbody tr th {\n",
       "        vertical-align: top;\n",
       "    }\n",
       "\n",
       "    .dataframe thead th {\n",
       "        text-align: right;\n",
       "    }\n",
       "</style>\n",
       "<table border=\"1\" class=\"dataframe\">\n",
       "  <thead>\n",
       "    <tr style=\"text-align: right;\">\n",
       "      <th></th>\n",
       "      <th>prcp</th>\n",
       "    </tr>\n",
       "  </thead>\n",
       "  <tbody>\n",
       "    <tr>\n",
       "      <th>count</th>\n",
       "      <td>2021.000000</td>\n",
       "    </tr>\n",
       "    <tr>\n",
       "      <th>mean</th>\n",
       "      <td>0.177279</td>\n",
       "    </tr>\n",
       "    <tr>\n",
       "      <th>std</th>\n",
       "      <td>0.461190</td>\n",
       "    </tr>\n",
       "    <tr>\n",
       "      <th>min</th>\n",
       "      <td>0.000000</td>\n",
       "    </tr>\n",
       "    <tr>\n",
       "      <th>25%</th>\n",
       "      <td>0.000000</td>\n",
       "    </tr>\n",
       "    <tr>\n",
       "      <th>50%</th>\n",
       "      <td>0.020000</td>\n",
       "    </tr>\n",
       "    <tr>\n",
       "      <th>75%</th>\n",
       "      <td>0.130000</td>\n",
       "    </tr>\n",
       "    <tr>\n",
       "      <th>max</th>\n",
       "      <td>6.700000</td>\n",
       "    </tr>\n",
       "  </tbody>\n",
       "</table>\n",
       "</div>"
      ],
      "text/plain": [
       "              prcp\n",
       "count  2021.000000\n",
       "mean      0.177279\n",
       "std       0.461190\n",
       "min       0.000000\n",
       "25%       0.000000\n",
       "50%       0.020000\n",
       "75%       0.130000\n",
       "max       6.700000"
      ]
     },
     "execution_count": 50,
     "metadata": {},
     "output_type": "execute_result"
    }
   ],
   "source": [
    "#summary statistics\n",
    "\n",
    "df1.describe()"
   ]
  },
  {
   "cell_type": "code",
   "execution_count": 60,
   "metadata": {},
   "outputs": [
    {
     "name": "stdout",
     "output_type": "stream",
     "text": [
      "2021-02-02 19:46:12,833 INFO sqlalchemy.engine.base.Engine PRAGMA main.table_info(\"SELECT * FROM station\")\n",
      "2021-02-02 19:46:12,835 INFO sqlalchemy.engine.base.Engine ()\n",
      "2021-02-02 19:46:12,838 INFO sqlalchemy.engine.base.Engine PRAGMA temp.table_info(\"SELECT * FROM station\")\n",
      "2021-02-02 19:46:12,840 INFO sqlalchemy.engine.base.Engine ()\n",
      "2021-02-02 19:46:12,841 INFO sqlalchemy.engine.base.Engine SELECT * FROM station\n",
      "2021-02-02 19:46:12,844 INFO sqlalchemy.engine.base.Engine ()\n",
      "9\n"
     ]
    }
   ],
   "source": [
    "#find the number of stations\n",
    "\n",
    "stations=pd.read_sql(\"SELECT * FROM station\", conn)\n",
    "df2 = pd.DataFrame(stations)\n",
    "print(len(df2['station']))\n"
   ]
  },
  {
   "cell_type": "code",
   "execution_count": 73,
   "metadata": {
    "scrolled": true
   },
   "outputs": [
    {
     "name": "stdout",
     "output_type": "stream",
     "text": [
      "2021-02-02 20:04:39,719 INFO sqlalchemy.engine.base.Engine PRAGMA main.table_info(\"SELECT * FROM measurement\")\n",
      "2021-02-02 20:04:39,721 INFO sqlalchemy.engine.base.Engine ()\n",
      "2021-02-02 20:04:39,725 INFO sqlalchemy.engine.base.Engine PRAGMA temp.table_info(\"SELECT * FROM measurement\")\n",
      "2021-02-02 20:04:39,726 INFO sqlalchemy.engine.base.Engine ()\n",
      "2021-02-02 20:04:39,727 INFO sqlalchemy.engine.base.Engine SELECT * FROM measurement\n",
      "2021-02-02 20:04:39,729 INFO sqlalchemy.engine.base.Engine ()\n"
     ]
    },
    {
     "data": {
      "text/plain": [
       "USC00519281    2772\n",
       "USC00519397    2724\n",
       "USC00513117    2709\n",
       "USC00519523    2669\n",
       "USC00516128    2612\n",
       "USC00514830    2202\n",
       "USC00511918    1979\n",
       "USC00517948    1372\n",
       "USC00518838     511\n",
       "Name: station, dtype: int64"
      ]
     },
     "execution_count": 73,
     "metadata": {},
     "output_type": "execute_result"
    }
   ],
   "source": [
    "#station observation counts in descending order\n",
    "stationcount = pd.read_sql(\"SELECT * FROM measurement\", conn)\n",
    "df3 = pd.DataFrame(stationcount)\n",
    "df5 = df3['station'].value_counts()\n",
    "df5.sort_values(ascending=False)"
   ]
  },
  {
   "cell_type": "code",
   "execution_count": 103,
   "metadata": {},
   "outputs": [
    {
     "name": "stdout",
     "output_type": "stream",
     "text": [
      "2021-02-02 20:59:49,600 INFO sqlalchemy.engine.base.Engine PRAGMA main.table_info(\"SELECT tobs FROM measurement WHERE station='USC00519281'\")\n",
      "2021-02-02 20:59:49,602 INFO sqlalchemy.engine.base.Engine ()\n",
      "2021-02-02 20:59:49,604 INFO sqlalchemy.engine.base.Engine PRAGMA temp.table_info(\"SELECT tobs FROM measurement WHERE station='USC00519281'\")\n",
      "2021-02-02 20:59:49,606 INFO sqlalchemy.engine.base.Engine ()\n",
      "2021-02-02 20:59:49,608 INFO sqlalchemy.engine.base.Engine SELECT tobs FROM measurement WHERE station='USC00519281'\n",
      "2021-02-02 20:59:49,611 INFO sqlalchemy.engine.base.Engine ()\n",
      "71.66378066378067 54.0 85.0\n"
     ]
    }
   ],
   "source": [
    "#USC00519281 has the most observations\n",
    "#station analysis\n",
    "FindTemp1 = pd.read_sql(\"SELECT tobs FROM measurement WHERE station='USC00519281'\", conn)\n",
    "df4 = pd.DataFrame(FindTemp1)\n",
    "import statistics as stats\n",
    "\n",
    "print(stats.mean(df4['tobs']), min(df4['tobs']), max(df4['tobs']))\n",
    "\n"
   ]
  },
  {
   "cell_type": "code",
   "execution_count": 111,
   "metadata": {},
   "outputs": [
    {
     "name": "stdout",
     "output_type": "stream",
     "text": [
      "2021-02-02 21:14:54,740 INFO sqlalchemy.engine.base.Engine SELECT measurement.station AS measurement_station, measurement.date AS measurement_date, measurement.tobs AS measurement_tobs \n",
      "FROM measurement \n",
      "WHERE measurement.station = ? AND measurement.date >= ?\n",
      "2021-02-02 21:14:54,742 INFO sqlalchemy.engine.base.Engine ('USC00519281', '2016-08-23')\n"
     ]
    },
    {
     "data": {
      "text/plain": [
       "array([[<matplotlib.axes._subplots.AxesSubplot object at 0x7f8f07b545b0>]],\n",
       "      dtype=object)"
      ]
     },
     "execution_count": 111,
     "metadata": {},
     "output_type": "execute_result"
    },
    {
     "data": {
      "image/png": "[encoded data removed]",
      "text/plain": [
       "<Figure size 432x288 with 1 Axes>"
      ]
     },
     "metadata": {},
     "output_type": "display_data"
    }
   ],
   "source": [
    "#filtration and histogram\n",
    "\n",
    "jump = s.query(Measure.station, Measure.date, Measure.tobs).filter(Measure.station == 'USC00519281').filter(Measure.date >= '2016-08-23').all()\n",
    "dict1 = []\n",
    "for i in jump:\n",
    "    dict1.append(i)\n",
    "    \n",
    "df6 = pd.DataFrame(dict1)\n",
    "df6.hist(['tobs'], bins=12)"
   ]
  },
  {
   "cell_type": "code",
   "execution_count": 116,
   "metadata": {},
   "outputs": [
    {
     "name": "stdout",
     "output_type": "stream",
     "text": [
      "<class 'pandas.core.frame.DataFrame'>\n"
     ]
    }
   ],
   "source": [
    "s.close()"
   ]
  },
  {
   "cell_type": "code",
   "execution_count": null,
   "metadata": {},
   "outputs": [
    {
     "name": "stdout",
     "output_type": "stream",
     "text": [
      " * Serving Flask app \"test\" (lazy loading)\n",
      " * Environment: production\n",
      "\u001b[31m   WARNING: This is a development server. Do not use it in a production deployment.\u001b[0m\n",
      "\u001b[2m   Use a production WSGI server instead.\u001b[0m\n",
      " * Debug mode: on\n"
     ]
    }
   ],
   "source": [
    "from flask import Flask, jsonify\n",
    "_name_ = 'test'\n",
    "app = Flask(_name_)\n",
    "\n",
    "@app.route('/')\n",
    "def home():\n",
    "    return(f\"/api/v1.0/precipitation\" f\"/api/v1.0/stations\" f\"/api/v1.0/tobs\" f\"/api/v1.0/<start>\" f\"/api/v1.0/<start>/<end>\")\n",
    "\n",
    "@app.route('/api/v1.0/precipitation')\n",
    "def dictionary():\n",
    "    sess=Session(engine)\n",
    "    reslt = sess.query(Measure.date, Measure.prcp).all()\n",
    "    aln = []\n",
    "    for prcp, date in reslt:\n",
    "        edict = {}\n",
    "        edict[\"prcp\"] = prcp\n",
    "        edict[\"date\"] = date\n",
    "        aln.append(edict)\n",
    "    return jsonify(aln)\n",
    "\n",
    "@app.route('/api/v1.0/stations')\n",
    "def liest():\n",
    "    sess=Session(engine)\n",
    "    app1 = sess.query(Station.station).all()\n",
    "    sess.close()\n",
    "    fin = list(np.ravel(app1))\n",
    "    return jsonify(fin)\n",
    "\n",
    "\n",
    "@app.route('/api/v1.0/tobs')\n",
    "def mix():\n",
    "    sess=Session(engine)\n",
    "    ope = pd.read_sql(\"SELECT date, tobs FROM measurement WHERE station='USC00519281'\", conn)\n",
    "    sess.close()\n",
    "    liast = list(np.ravel(ope))\n",
    "    return jsonify(liast)\n",
    "\n",
    "@app.route('/api/v1.0/<start>')\n",
    "def endgame():\n",
    "    sess=Session(engine)\n",
    "    old = pd.read_sql(\"SELECT tobs, date FROM measurement WHERE date BETWEEN '2016-08-23' AND '2016-09-30'\", conn)\n",
    "    df9 = pd.DataFrame(old)\n",
    "    newdic = []\n",
    "    for i in df9:\n",
    "        if df9[\"date\"] >= '2016-08-23':\n",
    "            newdic.append(i)\n",
    "    df10 = pd.DataFrame(newdic)\n",
    "    newdic2 = [min(df10[\"tobs\"]), max(df10[\"tobs\"]), stats.mean(df10[\"tobs\"])]\n",
    "    sess.close()\n",
    "    return jsonify(newdic)\n",
    "    return jsonify(newdic2)\n",
    "\n",
    "@app.route('/api/v1.0/<start>/<end>')\n",
    "def endgame2():\n",
    "    sess=Session(engine)\n",
    "    semiold = pd.read_sql(\"SELECT tobs FROM measurement WHERE date BETWEEN '2016-08-23' AND '2016-09-30'\", conn)\n",
    "    df11 = pd.DataFrame(semiold)\n",
    "    newdic3 = []\n",
    "    for j in df9[\"tobs\"]:\n",
    "        newdic3.append(j)\n",
    "    df12 = pd.DataFrame(newdic3)\n",
    "    newdic1 = [min(df12[\"tobs\"]), max(df12[\"tobs\"]), stats.mean(df12[\"tobs\"])]\n",
    "    sess.close()\n",
    "    return jsonify(newdic3)\n",
    "    return jsonify(newdic1)\n",
    "    \n",
    "    \n",
    "if _name_ == 'test':\n",
    "    app.run(debug=True, use_reloader=False)"
   ]
  },
  {
   "cell_type": "code",
   "execution_count": null,
   "metadata": {},
   "outputs": [],
   "source": []
  },
  {
   "cell_type": "code",
   "execution_count": null,
   "metadata": {},
   "outputs": [],
   "source": []
  },
  {
   "cell_type": "code",
   "execution_count": null,
   "metadata": {},
   "outputs": [],
   "source": []
  }
 ],
 "metadata": {
  "kernelspec": {
   "display_name": "Python 3",
   "language": "python",
   "name": "python3"
  },
  "language_info": {
   "codemirror_mode": {
    "name": "ipython",
    "version": 3
   },
   "file_extension": ".py",
   "mimetype": "text/x-python",
   "name": "python",
   "nbconvert_exporter": "python",
   "pygments_lexer": "ipython3",
   "version": "3.8.3"
  }
 },
 "nbformat": 4,
 "nbformat_minor": 4
}
